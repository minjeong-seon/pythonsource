{
 "cells": [
  {
   "cell_type": "code",
   "execution_count": 5,
   "metadata": {},
   "outputs": [],
   "source": [
    "from openpyxl import Workbook"
   ]
  },
  {
   "cell_type": "code",
   "execution_count": 4,
   "metadata": {},
   "outputs": [
    {
     "ename": "NameError",
     "evalue": "name 'Workbook' is not defined",
     "output_type": "error",
     "traceback": [
      "\u001b[1;31m---------------------------------------------------------------------------\u001b[0m",
      "\u001b[1;31mNameError\u001b[0m                                 Traceback (most recent call last)",
      "Cell \u001b[1;32mIn[4], line 1\u001b[0m\n\u001b[1;32m----> 1\u001b[0m wb \u001b[39m=\u001b[39m Workbook() \u001b[39m#워크북 객체 생성\u001b[39;00m\n\u001b[0;32m      3\u001b[0m ws \u001b[39m=\u001b[39m wb\u001b[39m.\u001b[39mactive  \u001b[39m#활성화된 워크 시트 가져오기\u001b[39;00m\n\u001b[0;32m      4\u001b[0m ws\u001b[39m.\u001b[39mtitle \u001b[39m=\u001b[39m \u001b[39m\"\u001b[39m\u001b[39mtest\u001b[39m\u001b[39m\"\u001b[39m\n",
      "\u001b[1;31mNameError\u001b[0m: name 'Workbook' is not defined"
     ]
    }
   ],
   "source": [
    "wb = Workbook() #워크북 객체 생성\n",
    "\n",
    "ws = wb.active  #활성화된 워크 시트 가져오기\n",
    "ws.title = \"test\"\n",
    "\n",
    "wb.save(\"sample1.xlsx\")\n",
    "wb.close"
   ]
  },
  {
   "cell_type": "code",
   "execution_count": 7,
   "metadata": {},
   "outputs": [
    {
     "name": "stdout",
     "output_type": "stream",
     "text": [
      "['Sheet', 'MySheet', '급여명세']\n"
     ]
    }
   ],
   "source": [
    "wb = Workbook()\n",
    "\n",
    "#새로운 시트 생성\n",
    "ws = wb.create_sheet()\n",
    "ws.title = \"MySheet\"\n",
    "ws.sheet_properties.tabColor = \"ff66ff\"\n",
    "\n",
    "ws2 = wb.create_sheet(\"급여명세\",2)\n",
    "\n",
    "\n",
    "sheet1 = wb[\"MySheet\"]\n",
    "sheet1[\"A1\"] = \"Test\"\n",
    "\n",
    "\n",
    "print(wb.sheetnames)\n",
    "\n",
    "target = wb.copy_worksheet(sheet1)\n",
    "target.title = \"Copied Sheet\"\n",
    "\n",
    "wb.save(\"sample2.xlsx\")\n",
    "wb.close()"
   ]
  },
  {
   "cell_type": "code",
   "execution_count": 9,
   "metadata": {},
   "outputs": [
    {
     "name": "stdout",
     "output_type": "stream",
     "text": [
      "<Cell 'Test2'.A2>\n",
      "2\n",
      "1\n"
     ]
    }
   ],
   "source": [
    "from random import *\n",
    "\n",
    "wb = Workbook()\n",
    "ws = wb.active\n",
    "ws.title = \"Test2\"\n",
    "\n",
    "# A1 cell에 value 1 입력\n",
    "ws[\"A1\"]=1\n",
    "ws[\"A2\"]=2\n",
    "ws[\"A3\"]=3\n",
    "\n",
    "# B1~3 cell 에 숫자 입력\n",
    "ws[\"B1\"]=4\n",
    "ws[\"B1\"]=5\n",
    "ws[\"B1\"]=6\n",
    "\n",
    "# 특정 셀 정보 출력\n",
    "print(ws[\"A2\"])\n",
    "print(ws[\"A2\"].value)\n",
    "\n",
    "print(ws.cell(row=1, column=1).value)\n",
    "\n",
    "for x in range(1,11):\n",
    "    for y in range(1,11):\n",
    "        ws.cell(row=x, column=y,value=randint(0,100))\n",
    "\n",
    "wb.save(\"sample1.xlsx\")\n",
    "wb.close()"
   ]
  },
  {
   "cell_type": "code",
   "execution_count": 13,
   "metadata": {},
   "outputs": [
    {
     "name": "stdout",
     "output_type": "stream",
     "text": [
      "48 62 27 35 52 31 6 47 89 80 \n",
      "29 13 11 5 97 88 1 89 8 96 \n",
      "59 19 64 67 100 31 63 33 82 38 \n",
      "40 51 21 70 91 7 89 44 89 64 \n",
      "39 51 68 22 78 38 7 82 13 95 \n",
      "9 36 23 52 28 64 29 19 88 50 \n",
      "92 53 34 79 5 12 65 57 38 85 \n",
      "69 65 43 27 57 6 96 42 73 25 \n",
      "76 80 33 47 86 77 81 1 20 73 \n",
      "32 41 64 53 60 98 86 17 74 21 \n"
     ]
    }
   ],
   "source": [
    "# 엑셀 파일 불러오기\n",
    "from openpyxl import load_workbook\n",
    "\n",
    "wb=load_workbook(\"sample1.xlsx\")\n",
    "ws=wb.active\n",
    "\n",
    "for x in range(1,ws.max_row+1):\n",
    "    for y in range(1,ws.max_column+1):\n",
    "        print(ws.cell(row=x, column=y).value, end=\" \")\n",
    "    print()\n",
    "\n",
    "wb.close()"
   ]
  },
  {
   "cell_type": "code",
   "execution_count": 23,
   "metadata": {},
   "outputs": [
    {
     "name": "stdout",
     "output_type": "stream",
     "text": [
      "(<Cell 'Sheet'.B1>, <Cell 'Sheet'.B2>, <Cell 'Sheet'.B3>, <Cell 'Sheet'.B4>, <Cell 'Sheet'.B5>, <Cell 'Sheet'.B6>, <Cell 'Sheet'.B7>, <Cell 'Sheet'.B8>, <Cell 'Sheet'.B9>, <Cell 'Sheet'.B10>, <Cell 'Sheet'.B11>)\n",
      "영어\n",
      "30\n",
      "87\n",
      "1\n",
      "52\n",
      "9\n",
      "47\n",
      "59\n",
      "39\n",
      "86\n",
      "12\n",
      "영어 30 87 1 52 9 47 59 39 86 12 \n",
      "수학 61 45 38 48 47 61 82 25 71 71 \n",
      "1 30 61 \n",
      "2 87 45 \n",
      "3 1 38 \n",
      "4 52 48 \n",
      "5 9 47 \n",
      "6 47 61 \n"
     ]
    }
   ],
   "source": [
    "from openpyxl import Workbook, load_workbook\n",
    "\n",
    "wb = Workbook()\n",
    "ws = wb.active\n",
    "\n",
    "# 리스트 형태로 데이터 삽입\n",
    "ws.append([\"번호\",\"영어\",\"수학\"])\n",
    "for i in range(1,11):\n",
    "    ws.append([i, randint(0,100), randint(0, 100)])\n",
    "\n",
    "\n",
    "# 영어 칼럼의 점수 출력\n",
    "print(ws['B'])\n",
    "\n",
    "for cell in ws['B']:\n",
    "    print(cell.value)\n",
    "\n",
    "for cols in ws['B:C']:\n",
    "    for cell in cols:\n",
    "        print(cell.value, end=\" \")\n",
    "    print()\n",
    "\n",
    "for rows in ws['2:7']:\n",
    "    for cell in rows:\n",
    "        print(cell.value, end=\" \")\n",
    "    print()\n",
    "\n",
    "\n",
    "wb.save(\"range.xlsx\")\n",
    "wb.close()"
   ]
  },
  {
   "cell_type": "code",
   "execution_count": null,
   "metadata": {},
   "outputs": [],
   "source": []
  }
 ],
 "metadata": {
  "kernelspec": {
   "display_name": "pythonsource",
   "language": "python",
   "name": "python3"
  },
  "language_info": {
   "codemirror_mode": {
    "name": "ipython",
    "version": 3
   },
   "file_extension": ".py",
   "mimetype": "text/x-python",
   "name": "python",
   "nbconvert_exporter": "python",
   "pygments_lexer": "ipython3",
   "version": "3.11.4"
  },
  "orig_nbformat": 4
 },
 "nbformat": 4,
 "nbformat_minor": 2
}
