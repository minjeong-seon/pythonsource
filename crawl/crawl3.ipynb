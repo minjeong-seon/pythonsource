{
 "cells": [
  {
   "cell_type": "code",
   "execution_count": null,
   "metadata": {},
   "outputs": [],
   "source": [
    "# 요청(requests) => 결과가 html 로 넘어오는 경우\n",
    "# html에서 원하는 정보 찾기 => parsing(파싱)\n",
    "#   ㄴBeautifulSoup4 라이브러리 사용\n",
    "\n",
    "# parser\n",
    "# 기본 파서 html.parser 설치 필요 없음\n",
    "# lxml 설치 필요"
   ]
  },
  {
   "cell_type": "code",
   "execution_count": 6,
   "metadata": {},
   "outputs": [
    {
     "name": "stdout",
     "output_type": "stream",
     "text": [
      "<h3 class=\"tit_view\" data-translation=\"true\">중국, 탈레반 장악 아프간과 신규 화물노선 개통…\"육로로 연결\"</h3>\n",
      "중국, 탈레반 장악 아프간과 신규 화물노선 개통…\"육로로 연결\"\n",
      "중국, 탈레반 장악 아프간과 신규 화물노선 개통…\"육로로 연결\"\n"
     ]
    }
   ],
   "source": [
    "import requests\n",
    "from bs4 import BeautifulSoup\n",
    "\n",
    "r = requests.get(\"https://v.daum.net/v/20230707120043809\")\n",
    "\n",
    "soup = BeautifulSoup(r.text, \"lxml\")\n",
    "\n",
    "print(soup.h3)\n",
    "print(soup.h3.string)\n",
    "print(soup.h3.get_text())"
   ]
  },
  {
   "cell_type": "code",
   "execution_count": 4,
   "metadata": {},
   "outputs": [
    {
     "name": "stdout",
     "output_type": "stream",
     "text": [
      "<title>The Dormouse's story</title>\n",
      "The Dormouse's story\n",
      "<head>\n",
      "<title>The Dormouse's story</title>\n",
      "</head>\n"
     ]
    }
   ],
   "source": [
    "from bs4 import BeautifulSoup\n",
    "\n",
    "# story.html\n",
    "with open(\"./story.html\",\"r\") as f:\n",
    "    html = f.read()\n",
    "\n",
    "soup = BeautifulSoup(html, \"lxml\")\n",
    "# print(soup.prettify())\n",
    "\n",
    "# title 태그 찾기\n",
    "print(soup.title)\n",
    "# title 태그 내용 찾기\n",
    "print(soup.title.string)\n",
    "# title 태그의 부모 찾기\n",
    "print(soup.title.parent)"
   ]
  },
  {
   "cell_type": "code",
   "execution_count": 11,
   "metadata": {},
   "outputs": [
    {
     "name": "stdout",
     "output_type": "stream",
     "text": [
      "<h1>Hello!</h1>\n",
      "Hello!\n"
     ]
    }
   ],
   "source": [
    "print(soup.h1)\n",
    "print(soup.h1.string)"
   ]
  },
  {
   "cell_type": "code",
   "execution_count": 13,
   "metadata": {},
   "outputs": [
    {
     "name": "stdout",
     "output_type": "stream",
     "text": [
      "<p class=\"title\"><b>The Dormouse's story</b></p>\n",
      "The Dormouse's story\n",
      "The Dormouse's story\n",
      "['title']\n"
     ]
    }
   ],
   "source": [
    "# p 태그 찾기 -가장 처음 나오는 p태그\n",
    "print(soup.p)\n",
    "print(soup.p.string)\n",
    "print(soup.p.get_text().strip())\n",
    "print(soup.p[\"class\"])  # 속성으로 찾기 - 결과가 리스트로 돌아옴"
   ]
  },
  {
   "cell_type": "code",
   "execution_count": 14,
   "metadata": {},
   "outputs": [
    {
     "name": "stdout",
     "output_type": "stream",
     "text": [
      "<h1>Hello!</h1>\n",
      "Hello!\n"
     ]
    }
   ],
   "source": [
    "# find() : 가장 처음 만나는 태그\n",
    "# find_all() : 모든 태그\n",
    "\n",
    "print(soup.find(\"h1\"))\n",
    "print(soup.find(\"h1\").string)"
   ]
  },
  {
   "cell_type": "code",
   "execution_count": null,
   "metadata": {},
   "outputs": [],
   "source": [
    "# 찾은 태그가 하나여도 결과는 무조건 리스트임\n",
    "\n",
    "for tag in soup.find_all(\"p\"):\n",
    "    print(tag)"
   ]
  },
  {
   "cell_type": "code",
   "execution_count": null,
   "metadata": {},
   "outputs": [],
   "source": [
    "print(soup.find_all(\"p\", class_=\"story\"))"
   ]
  },
  {
   "cell_type": "code",
   "execution_count": null,
   "metadata": {},
   "outputs": [],
   "source": [
    "print(soup.find_all(\"a\", class_=\"sister\"))\n",
    "\n",
    "for link in soup.find_all(\"a\"):\n",
    "    print(link.get(\"href\"))\n",
    "\n",
    "\n",
    "print(soup.find_all(\"a\", limit=2))\n",
    "print(soup.find_all(\"a\", string=[\"Elsie\"]))"
   ]
  },
  {
   "cell_type": "code",
   "execution_count": 5,
   "metadata": {},
   "outputs": [
    {
     "data": {
      "text/plain": [
       "<a class=\"sister\" data-io=\"test\" href=\"http://example.com/tillie\" id=\"link2\">Tillie</a>"
      ]
     },
     "execution_count": 5,
     "metadata": {},
     "output_type": "execute_result"
    }
   ],
   "source": [
    "# 조건에 일치하는 태그 가져오기\n",
    "soup.find(\"a\",id=\"link1\",class_=\"sister\")\n",
    "soup.find(\"a\",attrs={\"data-io\":\"test\",\"class\":\"sister\"})"
   ]
  },
  {
   "cell_type": "code",
   "execution_count": null,
   "metadata": {},
   "outputs": [],
   "source": [
    "import requests\n",
    "from bs4 import BeautifulSoup\n",
    "\n",
    "res = requests.get(\"https://pythonscraping.com/pages/warandpeace.html\")\n",
    "soup = BeautifulSoup(res.text,\"html.parser\")    # lxml(=parser)\n",
    "\n",
    "# html 모든 문자 가져오기\n",
    "# print(soup.get_text())\n",
    "\n",
    "# html에 등장하는 등장인물 정보 가져오기(span -- class_=green)\n",
    "# persons = soup.findAll(\"span\",class_=\"green\")\n",
    "# for person in persons:\n",
    "#     print(person.string)\n",
    "\n",
    "# 등장인물의 대사 가져오기\n",
    "scripts = soup.findAll(\"span\",class_=\"red\")\n",
    "for script in scripts:\n",
    "    print(script.string)\n"
   ]
  },
  {
   "cell_type": "code",
   "execution_count": null,
   "metadata": {},
   "outputs": [],
   "source": [
    "import requests\n",
    "from bs4 import BeautifulSoup\n",
    "\n",
    "\n",
    "res = requests.get(\"https://v.daum.net/v/20230710091147301\")\n",
    "soup = BeautifulSoup(res.text,\"lxml\")\n",
    "\n",
    "# 기사 제목 가져오기\n",
    "title = soup.find(\"h3\")\n",
    "print(title.string)\n",
    "\n",
    "# 기자 정보 가져오기\n",
    "name = soup.find(\"span\",class_=\"txt_info\")\n",
    "print(\"written by \" + name.string)\n",
    "\n",
    "# 작성 날짜\n",
    "date = soup.find(\"span\",class_=\"num_date\")\n",
    "print(\"작성일: \" + date.string)\n",
    "\n",
    "# 첫 번째 문단\n",
    "para = soup.find(\"p\",attrs={\"dmcf-pid\":\"HX3es2dYpt\"})\n",
    "print(para.string)\n",
    "\n",
    "para1 = soup.findAll(\"p\",attrs={\"dmcf-ptype\":\"general\"})\n",
    "print(para1[2].string)"
   ]
  },
  {
   "cell_type": "code",
   "execution_count": null,
   "metadata": {},
   "outputs": [],
   "source": [
    "import requests\n",
    "from bs4 import BeautifulSoup\n",
    "\n",
    "\n",
    "res = requests.get(\"https://shopping.naver.com/home\")\n",
    "soup = BeautifulSoup(res.text,\"lxml\")\n",
    "\n",
    "# shopping 카테고리 가져오기\n",
    "category = soup.findAll(\"button\",class_=\"category_button__dSzcN\")\n",
    "for c in category:\n",
    "    print(c.get_text())"
   ]
  },
  {
   "cell_type": "code",
   "execution_count": 31,
   "metadata": {},
   "outputs": [
    {
     "name": "stdout",
     "output_type": "stream",
     "text": [
      "<b>The Dormouse's story</b>\n"
     ]
    }
   ],
   "source": [
    "# find(), findAll()\n",
    "# select_one(), select() : css 선택자 사용가능\n",
    "\n",
    "from bs4 import BeautifulSoup\n",
    "\n",
    "with open(\"./story.html\",\"r\") as f:\n",
    "    html = f.read()\n",
    "\n",
    "soup = BeautifulSoup(html,\"html.parser\")\n",
    "\n",
    "# b태그 찾기\n",
    "b_tag = soup.select_one(\"p.title > b\")\n",
    "print(b_tag)\n"
   ]
  },
  {
   "cell_type": "code",
   "execution_count": null,
   "metadata": {},
   "outputs": [],
   "source": [
    "p_tag = soup.select_one(\"p.story\")\n",
    "print(p_tag)"
   ]
  },
  {
   "cell_type": "code",
   "execution_count": 34,
   "metadata": {},
   "outputs": [
    {
     "name": "stdout",
     "output_type": "stream",
     "text": [
      "<a class=\"sister\" href=\"http://example.com/elsie\" id=\"link1\">Elsie</a>\n"
     ]
    }
   ],
   "source": [
    "p_tag = soup.select_one(\"#link1\")\n",
    "print(p_tag)"
   ]
  },
  {
   "cell_type": "code",
   "execution_count": null,
   "metadata": {},
   "outputs": [],
   "source": [
    "import requests\n",
    "from bs4 import BeautifulSoup\n",
    "\n",
    "res = requests.get(\"https://pythonscraping.com/pages/page3.html\")\n",
    "soup = BeautifulSoup(res.text,\"html.parser\")    # lxml(=parser)\n",
    "\n",
    "# Totally Normal Gifts 추출\n",
    "title = soup.find(\"h1\")\n",
    "print(title.string)\n",
    "\n",
    "# 모든 img 태그 추출(제목 행 옆 이미지 제외)\n",
    "images = soup.select(\"#giftList img\")\n",
    "for img in images:\n",
    "    print(img)\n",
    "    print(img[\"src\"])\n",
    "    print(img.get(\"src\"))\n",
    "\n",
    "\n",
    "# 테이블 내용 추출\n",
    "tables = soup.select(\"#giftList\")\n",
    "for item in tables:\n",
    "    print(item.get_text().strip())"
   ]
  },
  {
   "cell_type": "code",
   "execution_count": null,
   "metadata": {},
   "outputs": [],
   "source": [
    "# https://www.clien.net/service/board/lecture\n",
    "# https://www.clien.net/service/board/lecture?&od=T31&category=0&po=1\n",
    "# https://www.clien.net/service/board/lecture?&od=T31&category=0&po=2\n",
    "# https://www.clien.net/service/board/lecture?&od=T31&category=0&po=3\n",
    "# https://www.clien.net/service/board/lecture?&od=T31&category=0&po=4\n",
    "\n",
    "for page_num in range(5):\n",
    "    if page_num == 0:\n",
    "        res = requests.get(\"https://www.clien.net/service/board/lecture\")\n",
    "    else:\n",
    "        res = requests.get(\"https://www.clien.net/service/board/lecture?&od=T31&category=0&po=\"+str(page_num))\n",
    "\n",
    "    soup = BeautifulSoup(res.text,\"lxml\")\n",
    "\n",
    "    #title 추출\n",
    "    title = soup.findAll(\"span\",class_=\"subject_fixed\") #select(\"span.subject_fixed\")\n",
    "    for t in title:\n",
    "        print(t.string.strip())"
   ]
  },
  {
   "cell_type": "code",
   "execution_count": 64,
   "metadata": {},
   "outputs": [
    {
     "name": "stdout",
     "output_type": "stream",
     "text": [
      "[{'title': '2023년에서 2029년까지 상태 및 성장과 함께 태블릿 용량성 펜 시장 ...', 'link': './articles/CBMi8wFodHRwczovL3d3dy5sbmV3cy50di8lRUMlODYlOEMlRUMlOEIlOUQvMjAyMyVFQiU4NSU4NCVFQyU5NyU5MCVFQyU4NCU5Qy0yMDI5JUVCJTg1JTg0JUVBJUI5JThDJUVDJUE3JTgwLSVFQyU4MyU4MSVFRCU4MyU5Qy0lRUIlQjAlOEYtJUVDJTg0JUIxJUVDJTlFJUE1JUVBJUIzJUJDLSVFRCU5NSVBOCVFQSVCQiU5OC0lRUQlODMlOUMlRUIlQjglOTQlRUIlQTYlQkYtJUVDJTlBJUE5JUVCJTlGJTg5JUVDJTg0JUIxLzg4MDE2MS_SAQA?hl=ko&gl=KR&ceid=KR%3Ako', 'writer': '엘뉴스', 'date': None}]\n"
     ]
    }
   ],
   "source": [
    "import requests\n",
    "from bs4 import BeautifulSoup\n",
    "\n",
    "news_item = {}\n",
    "news = [news_item]\n",
    "\n",
    "keyword = input(\"검색어 입력\")\n",
    "\n",
    "url = \"https://news.google.com/search?q=\"+keyword+\"&hl=ko&gl=KR&ceid=KR%3Ako\"\n",
    "\n",
    "res = requests.get(url)\n",
    "soup = BeautifulSoup(res.text,\"html.parser\")    # lxml(=parser)\n",
    "\n",
    "articles = soup.select(\"div.xrnccd article\")\n",
    "\n",
    "for article in articles:\n",
    "    news_item[\"title\"] = article.h3.string           # 제목 추출\n",
    "    news_item[\"link\"] = article.a[\"href\"]             # 링크 추출\n",
    "    news_item[\"writer\"] = article.img.get(\"alt\")     # 작성자 추출\n",
    "    news_item[\"date\"] = article.time.get(\"datatime\") # 작성날짜 추출\n",
    "\n",
    "print(news)"
   ]
  },
  {
   "cell_type": "code",
   "execution_count": null,
   "metadata": {},
   "outputs": [],
   "source": [
    "# 다나와 - 로그인 후 접근할 수 있는 페이지 크롤링\n",
    "\n",
    "# 메인 : https://www.danawa.com/\n",
    "# 로그인 : https://auth.danawa.com/login?url=https%3A%2F%2Fwww.danawa.com%2F\n",
    "\n",
    "from fake_useragent import UserAgent\n",
    "\n",
    "form_data = {\n",
    "    \"redirectUrl\": \"https://www.danawa.com/\",\n",
    "    'loginMemberType': 'general',\n",
    "    'id': 'amjey95',\n",
    "    'isSaveId': 'true',\n",
    "    'password': 'tlfkdldk95!!'\n",
    "}\n",
    "\n",
    "headers ={\n",
    "    \"user-agent\": UserAgent().chrome,\n",
    "    \"Referer\": \"https://auth.danawa.com/login?url=https%3A%2F%2Fwww.danawa.com%2F\"\n",
    "}\n",
    "\n",
    "with requests.Session() as s:\n",
    "    # 로그인\n",
    "    res = s.post(\"https://auth.danawa.com/login\", form_data,headers=headers)\n",
    "    res = s.get(\"https://buyer.danawa.com/order/Order/orderList\",headers=headers)\n",
    "\n",
    "    soup = BeautifulSoup(res.text,\"lxml\")\n",
    "\n",
    "    # id를 가지고 있는 p태그 찾기\n",
    "    check_id = soup.find(\"p\", class_=\"user\")\n",
    "    print(check_id)"
   ]
  },
  {
   "cell_type": "code",
   "execution_count": 74,
   "metadata": {},
   "outputs": [],
   "source": [
    "# 네이버 오픈 api + excel 저장\n",
    "from openpyxl import Workbook\n",
    "\n",
    "wb = Workbook()\n",
    "\n",
    "ws=wb.active\n",
    "ws.title=\"iPhone\"\n",
    "\n",
    "# 특정 열 너비 조절\n",
    "ws.column_dimensions[\"B\"].width = 100\n",
    "ws.column_dimensions[\"C\"].width = 70\n",
    "\n",
    "# 타이틀 행 삽입\n",
    "ws.append([\"순위\",\"상품명\",\"상세주소\"])\n",
    "\n",
    "headers = {\n",
    "    \"X-Naver-Client-Id\":\"duSq6A4xuhsQBxveH3cy\",\n",
    "    \"X-Naver-Client-Secret\":\"KSpQMKvLZv\"\n",
    "}\n",
    "\n",
    "url = \"https://openapi.naver.com/v1/search/shop.json\"\n",
    "\n",
    "start, num = 1,0\n",
    "\n",
    "for idx in range(10):\n",
    "    start_num = start+(idx*100)\n",
    "\n",
    "    params={\n",
    "    \"query\":\"아이폰\",\n",
    "    \"display\":\"100\",\n",
    "    \"start\":str(start_num),\n",
    "}\n",
    "\n",
    "    res = requests.get(url, params=params, headers=headers)\n",
    "    # print(res.url)\n",
    "\n",
    "    data = res.json()\n",
    "\n",
    "    for item in data['items']:\n",
    "        num +=1\n",
    "        # print(num, item['title'], item['link'])\n",
    "        ws.append([num, item['title'], item['link']])\n",
    "\n",
    "wb.save(\"naver.xlsx\")\n",
    "wb.close()"
   ]
  },
  {
   "cell_type": "code",
   "execution_count": 68,
   "metadata": {},
   "outputs": [],
   "source": [
    "\n",
    "from openpyxl import Workbook\n",
    "\n",
    "wb = Workbook()\n",
    "\n",
    "\n",
    "wb.save(\"naver.xlsx\")\n",
    "wb.close()\n"
   ]
  },
  {
   "cell_type": "code",
   "execution_count": null,
   "metadata": {},
   "outputs": [],
   "source": []
  },
  {
   "cell_type": "code",
   "execution_count": 79,
   "metadata": {},
   "outputs": [],
   "source": [
    "# isbn, title, discount, publisher\n",
    "# naver open api - book(book.xlsx)\n",
    "\n",
    "from openpyxl import Workbook\n",
    "\n",
    "wb = Workbook()\n",
    "\n",
    "ws=wb.active\n",
    "ws.title=\"book\"\n",
    "\n",
    "ws.append([\"no\",\"isbn\",\"title\",\"discount\",\"publisher\"])\n",
    "\n",
    "ws.column_dimensions[\"B\"].width = 20\n",
    "ws.column_dimensions[\"C\"].width = 70\n",
    "ws.column_dimensions[\"D\"].width = 20\n",
    "ws.column_dimensions[\"E\"].width = 20\n",
    "\n",
    "headers = {\n",
    "    \"X-Naver-Client-Id\":\"duSq6A4xuhsQBxveH3cy\",\n",
    "    \"X-Naver-Client-Secret\":\"KSpQMKvLZv\"\n",
    "}\n",
    "\n",
    "url = \"https://openapi.naver.com/v1/search/book.json\"\n",
    "\n",
    "start, num = 1,0\n",
    "\n",
    "for idx in range(2):\n",
    "    start_num = start+(idx*100)\n",
    "\n",
    "    params={\n",
    "    \"query\":\"베르나르 베르베르\",\n",
    "    \"display\":\"100\",\n",
    "    \"start\":str(start_num),\n",
    "}\n",
    "\n",
    "    res = requests.get(url, params=params, headers=headers)\n",
    "    # print(res.url)\n",
    "\n",
    "    data = res.json()\n",
    "\n",
    "    for item in data['items']:\n",
    "        num +=1\n",
    "        \n",
    "        ws.append([num, item['isbn'], item['title'], item['discount'], item['publisher']])\n",
    "\n",
    "\n",
    "wb.save(\"book.xlsx\")\n",
    "wb.close()"
   ]
  },
  {
   "cell_type": "code",
   "execution_count": 85,
   "metadata": {},
   "outputs": [
    {
     "name": "stdout",
     "output_type": "stream",
     "text": [
      "[Lenovo]태블릿 p12 샤오신패드 2022 pad 2022 6+128G 10.6인치 WIFI 중국내수용\n",
      "[Lenovo]레노버 P12 XiaoxinPad 2022 태블릿 PC 테블릿 4+128G 중국내수용\n",
      "[르젠]르젠 앱연동 스마트 BLDC 리모컨 선풍기 LZEF-DC02\n",
      "[대우](혜택가 3.5만원) 2023년형 대우 3단 높이조절 리모컨 34cm형 써큘레이터 선풍기 / DEF-KC3040 서큘레이터\n",
      "[숲속바람]Forest Wind 저소음 5엽 스탠드 선풍기\n",
      "[삼성전자]삼성 비스포크 제트 무선청소기 풀패키지 VS20B957F5E 220W 산토리니베이지\n",
      "[신일전자]2023 NEW 신일 BLDC 에어서큘레이터 S9 베이지(SIF-CS30BG)\n",
      "[윈드피아]가정용 업소용 스탠드 리모컨 선풍기 인기상품 1700R\n",
      "[로지텍](빠른직구) 로지텍 MX Master 3S 블루투스 무선 마우스 미개봉 정품 재고보유\n",
      "[코드나인]혜택가 27900원 탁상용 휴대용 선풍기_FAN190  /화이트+화이트\n",
      "[쿠쿠](혜택가 5.9만원) 쿠쿠 본사직영 20L 전자레인지 CMW-A201DW\n",
      "[DELL]E2722HS 27인치 FHD IPS 16:9 VESA HDMI DP VGA 내장스피커 델 모니터 3년 무상 (주문 폭주 출고 지연)\n",
      "[케어프린]자동 무선 멀티 야채 이유식 다지기 믹서기 600ml\n",
      "[대웅]대웅 가정용 스탠드선풍기  키높이선풍기\n",
      "맥심 화이트골드 170티 x6개입 총1020티\n",
      "[SK매직]SK매직 써큘레이터 FAN-CS1000MGR 무소음 써큘레이터 빈티지 그레이\n",
      "[에버홈]에버홈 글라스텐 파워 멀티 믹서기 EV-MC7000\n",
      "[Callia]갤럭시 C타입 휴대용 미니 18W 고속 충전 핸드폰 보조배터리 5000mAh\n",
      "[테팔]테팔 믹서기 블렌더 블렌드포스 플러스 BL4258KR BL4258 블랙\n",
      "[위닉스]공식인증점)위닉스 17L제습기 {DN3E170-LWK} 1등급 제습기\n",
      "[위닉스]공식인증점) 위닉스 제습기 12L {DXTE120-MPK} 2023년 신상품\n",
      "[아이닉]대용량 스텐 에어프라이어 16L 화이트 블랙 스카이블루 (+10만원 상당 조리도구7종)\n",
      "[쿠쿠](혜택가 7.4만원) 쿠쿠 본사직영 스피드팟 멀티쿠커 CMC-A0655FB\n",
      "[공식파트너] 위닉스 뽀송 제습기 10L DXAE100-JWK\n",
      "[대우](혜택가 2.9만원) 2023년형 대우 3단 높이조절 34cm형 써큘레이터 선풍기 / DEF-KC2030 서큘레이터\n",
      "[신일전자]신일 BLDC 무소음 리모컨 선풍기 SIF-DC826\n",
      "[테팔]테팔 믹서기 블렌더 블렌데오 플러스 BL2C01\n",
      "[르젠]르젠 스탠드형 리모컨 써큘레이터 선풍기 LZEF-AR03\n",
      "[엘지전자(가전)]  [1등급/20L] LG 휘센 오브제 듀얼 인버터 제습기 베이지[DQ2\n",
      "[샤오미]샤오미 미지아 무선 선풍기 5세대 에어서큘레이터 BLDC 마그네틱 충전 돼지코 증정 BPLDS05DM\n",
      "[로지텍]로지텍코리아 정품 기계식 유선 키보드 K835 TKL\n",
      "1+1 탁상용 휴대용 선풍기_FAN190 /화이트+그레이\n",
      "[넥스코]넥스코 32단 스텐딩 12인치 써큘레이터 BLDC NKF-3290G\n",
      "[신일전자]2023년 NEW  BLDC 서큘레이터 air S9 베이지/딥그린/블루(SIF-CS30BG\n",
      "[쿠쿠](혜택가 22.8만원) 쿠쿠 본사직영 CRP-CHP1010FD 10인용 IH전기압력 밥솥\n",
      "[까사맘]까사맘 음식물 쓰레기 냉장고 처리기 3.5L CAA-601\n",
      "[숲속바람][] 자연을 담은 숲속바람 스탠드 선풍기 14형 가정용\n",
      "[신일전자]블랙  에어서큘레이터(SIF-FA400A)\n",
      "ALLDOCUBE iplay50 mini 태블릿 pc 안드로이드 4+64G 글로벌롬버전\n",
      "[르젠]르젠 무선 BLDC 선풍기(LZDF-CZ740)\n",
      "[넥스코]넥스코 32단 스텐딩 10인치 써큘레이터 BLDC 리모컨 NKF-3230G\n",
      "[LG전자]혜택가 50만원대 LG전자 휘센 제습기 20L 블루 DQ202PBBC 빠른배송\n",
      "[쿠쿠](혜택가 6.1만원) 쿠쿠 본사직영 CR-0675FW 에그 밥솥 6인용 밥솥\n",
      "[로보락]로보락 S8 Plus 로봇청소기 먼지통 자동비움 장애물 회피 듀얼브러시 물걸레오토리프팅\n",
      "[아이닉]아이닉 차이슨 무선청소기 i20 엘리트\n",
      "닌텐도 스위치 젤다의 전설 티어스 오브 더 킹덤\n",
      "[위닉스]공식인증점)위닉스 17L제습기 {DN3E170-LWK} 1등급 제습기 (롯데카드 35.5만)\n",
      "[신일전자]신일 BLDC 리모컨 써큘레이터 SIF-TW80T 베이지\n",
      "[헬로우]공식판매점 헬로 HAYLOU T19 블루투스이어폰 6개월 AS\n",
      "[필립스]PHILIPS 필립스 코털제거기 NT1620/15 콧털 정리 트리머\n",
      "내일도착유파 선풍기리모컨초미풍발터치 TSK-3528CR\n",
      "[HP]빅터스 16-r0089TX 특가149만 인텔 i7-13700HX 16GB RTX4060 QHD MUX 최신 게이밍 노트북 크리에이터북\n",
      "[레드울프]갤럭시 S23 S22 울트라 노트20/노트10/S21/S20/S10/A53/A32/A23/A33/A71/A82 플러스 가죽 지갑형 폰케이스\n",
      "[리큐엠]고속충전 잔량표시 20000mAh 보조배터리 QP2000A 20W\n",
      "[보만]최종 3.5만) 32만개 판매 국민 스팀다리미 보만 핸디형 가정용 휴대용 여행용 의류스팀기 DB8231\n",
      "[네고]2매+1 (이벤트참여) 강화유리 지문방지 갤럭시S23 S22 울트라 플러스 노트 플립 폴드 아이폰14 13 프로맥스\n",
      "[마이크로소프트]XBOX Live Gold 12개월 이용권 Xbox Digital Code 라이브골드 12개월\n",
      "[유파]방송유파 선풍기리모컨초미풍발터치 TSK-3528CR\n",
      "[윈드피아]가정용 업소용 사무실 스탠드 키높이 선풍기 WA-170\n",
      "[신일전자]신일 LED 리모컨 스탠드 선풍기 SIF-R14PM\n",
      "[로지텍]로지텍 코리아 MK295 SILENT 무소음 무선콤보\n",
      "[오닉스북스](빠른직구) 오닉스 북스 포크5 6인치 이북리더기 2+32GB 블랙 2023 최신상\n",
      "[위닉스]공식인증점) 위닉스 제습기 12L {DXTE120-MPK} 2023년 신상품 (롯데카드 21.9만)\n",
      "[필립스]PHILIPS 샤티넬 어드밴스 모근제거기 BRE710/10\n",
      "[프리플로우]라이젠5 5600G_16GB_500GB 컴퓨터본체 (홈오피스 PRO 5) AMD세잔 사무용/가정용컴퓨터 조립PC\n",
      "[쿠쿠](혜택가 12.0만원) 쿠쿠 본사직영 35인용 대용량 업소용 전기보온 밥솥 CR-3555B\n",
      "[Lenovo]PAD 2022 P12 태블릿 샤오신 패드 6+128g 10.6인치 WIFI 글로벌롬\n",
      "[대우]대우 써큘레이터형 발터치 리모콘 선풍기\n",
      "[에코백스]에코백스 T10옴니(2년무상AS) 올인원 로봇청소기(물걸레세척.열풍건조.먼지비움)\n",
      "[Lenovo]레노버 XIAOXINPad 태블릿 4+64G p12 내수용  그레이\n",
      "[오아]오아 클린이워터B 휴대용 무선 구강세정기 1+1\n",
      "모닝컴 리모컨 초미세풍 발터치스탠드선풍기 23년도 신상품\n",
      "ARCTIC P12 PWM PST VALUE PACK 아틱 케이스 시스템\n",
      "[쿠쿠](혜택가 20.9만원) 쿠쿠 본사직영 CRP-DHP0610FD 6인용 IH전기압력 밥솥\n",
      "[쿠쿠](혜택가 8.0만원) 쿠쿠 본사직영 5.5L 에어프라이어 CAF-G0610TB\n",
      "[삼성전자]버티컬 무선마우스 SM-M1300QB 블루투스 멀티페어링 저소음\n",
      "[젠하이저]젠하이저 최신상 모멘텀4 화이트 /블랙+거치대증정 블루투스 무선헤드폰 M4AEBT M4\n",
      "[솔러스에어]솔러스에어 탁상용 선풍기 타이머 좌우회전 수면풍 자연풍 무선 무소음 미니 탁상형 소형 충전식 AIR604TF\n",
      "[아이닉]차이슨 무선청소기 New i20 UV브러시탑재\n",
      "[위즈웰]WB800 설레임 눈꽃 빙수기 제빙기 빙삭기 눈꽃 빙수기계 팥빙수기계 핑크 화이트 민트 3color\n",
      "[신일전자]화이트  에어서큘레이터(SIF-FA800B)\n",
      "[삼성전자]삼성 KU75UA8070FXKR 189cm UHD 스마트 TV 스탠드형\n",
      "[신일전자]2023년 최신상 베이지 1대  BLDC 서큘레이터 air S9(SIF-CS30BG\n",
      "[아이닉]아이닉 23년형 무선청소기 i30 아이타워 i-Tower\n",
      "[쿠쿠](혜택가 5.9만원) 쿠쿠 본사직영 20L 전자레인지 CMW-A201DB\n",
      "[블레스]스마트 터치 핸드블랜더 기본형 SH601\n",
      "[윈드피아]가정용선풍기 업소용선풍기 스탠드 선풍기 WA-370\n",
      "[풀무원](15%중복할인) 풀무원 스팀쿡 에어프라이어 올스텐 10.5L PSA-W1000 (롯데카드7%할인)\n",
      "[대우]대우 두유제조기 두유메이커 (믹서기능) 콩 두유만들기 이유식 죽\n",
      "[유파]가성비 발터치 리모컨 선풍기 AKF-FT14R 리모콘 450분 타이머 5엽 날개 서큘레이터 초미풍 사무실 매장\n",
      "[신일전자]신일 기본형 스탠드 선풍기 SIF-P128 스탠드형\n",
      "[삼성전자]공식인증 SSD 970 EVO Plus M.2 2TB  MZ-V7S2T0BW (정품) 혜택가134500원\n",
      "[ASUS]ASUS ROG ALLY RC71L-NH001W 6차 예약판매 휴대용 게임기 Z1 Extreme/16GB/512GB/UMPC 7.18까지 발송\n",
      "[샤오미]샤오미 보조배터리 7세대 10000mah 국내정발 정품\n",
      "[솔러스에어](1+1) 솔러스에어 탁상용 선풍기 타이머 좌우회전 수면풍 무선 무소음 미니 탁상형 소형 AIR604TF\n",
      "[LG전자]LG 27GN650 144Hz 게이밍모니터 1ms 울트라기어\n",
      "[엔보우]모노 탁상용 무선 휴대용 선풍기 3세대 1+1(할인 행사)\n",
      "[유닉스]유닉스 전문가용 매직기 미용실 고데기 볼륨 스트레이트너 세라믹 앞머리 고대기 판고데기 추천\n",
      "[삼성전자]갤럭시북2 NT550XEZ-A58A 최종56만 가성비노트북 인텔i5탑재 대학생추천 인강용\n",
      "[로지텍]로지텍코리아 정품 무선마우스 MX MASTER3 /유니파잉/윈+맥호환/멀티페어링\n"
     ]
    }
   ],
   "source": [
    "# G마켓 베스트 - 컴퓨터/전자 카테고리\n",
    "# https://www.gmarket.co.kr/n/best?viewType=G&groupCode=G06\n",
    "\n",
    "import requests\n",
    "from bs4 import BeautifulSoup\n",
    "\n",
    "# 상품명, 가격 찾아오기\n",
    "res = requests.get(\"https://www.gmarket.co.kr/n/best?viewType=G&groupCode=G06\")\n",
    "soup = BeautifulSoup(res.text,\"html.parser\")\n",
    "\n",
    "best_list = soup.select(\"li.first\")\n",
    "# items = soup.findAll(\"a\",class_=\"itemname\")\n",
    "for idx, item in enumerate(best_list,start=1):\n",
    "    item_info = item.select_one(\"a.itemname\")\n",
    "    item_name = item_info.string\n",
    "    href = item_info.get[\"href\"]\n",
    "    item_price = item.select_one(\"div.s-price>strong span\").get_text()\n",
    "\n",
    "    item_detail = requests.get(href)\n",
    "    soup2 = BeautifulSoup(item_detail.text,\"lxml\")\n"
   ]
  },
  {
   "cell_type": "code",
   "execution_count": null,
   "metadata": {},
   "outputs": [],
   "source": []
  }
 ],
 "metadata": {
  "kernelspec": {
   "display_name": "pythonsource",
   "language": "python",
   "name": "python3"
  },
  "language_info": {
   "codemirror_mode": {
    "name": "ipython",
    "version": 3
   },
   "file_extension": ".py",
   "mimetype": "text/x-python",
   "name": "python",
   "nbconvert_exporter": "python",
   "pygments_lexer": "ipython3",
   "version": "3.11.4"
  },
  "orig_nbformat": 4
 },
 "nbformat": 4,
 "nbformat_minor": 2
}
