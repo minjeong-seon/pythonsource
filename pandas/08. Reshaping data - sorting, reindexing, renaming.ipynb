{
 "cells": [
  {
   "cell_type": "markdown",
   "id": "56819189",
   "metadata": {},
   "source": [
    "### [참고] <a href=\"https://pandas.pydata.org/Pandas_Cheat_Sheet.pdf\">Pandas Cheat Sheet</a>"
   ]
  },
  {
   "cell_type": "code",
   "execution_count": 1,
   "id": "d3cd9461",
   "metadata": {},
   "outputs": [],
   "source": [
    "import pandas as pd\n",
    "import seaborn as sns"
   ]
  },
  {
   "cell_type": "markdown",
   "id": "7cc93333",
   "metadata": {},
   "source": [
    "### [실습1]"
   ]
  },
  {
   "cell_type": "code",
   "execution_count": null,
   "id": "65617a0d",
   "metadata": {},
   "outputs": [],
   "source": [
    "df = sns.load_dataset('mpg')\n",
    "df.head(1)"
   ]
  },
  {
   "cell_type": "code",
   "execution_count": null,
   "id": "7736b911",
   "metadata": {},
   "outputs": [],
   "source": [
    "df.shape"
   ]
  },
  {
   "cell_type": "markdown",
   "id": "23e7025d",
   "metadata": {},
   "source": [
    "### 3) sort_values()"
   ]
  },
  {
   "cell_type": "code",
   "execution_count": null,
   "id": "767bf52d",
   "metadata": {},
   "outputs": [],
   "source": [
    "df.sort_values(\"mpg\")"
   ]
  },
  {
   "cell_type": "code",
   "execution_count": null,
   "id": "1f0aa230",
   "metadata": {},
   "outputs": [],
   "source": [
    "df.sort_values(\"mpg\",ascending=False)"
   ]
  },
  {
   "cell_type": "markdown",
   "id": "9a2200a6",
   "metadata": {},
   "source": [
    "### 4) rename"
   ]
  },
  {
   "cell_type": "code",
   "execution_count": null,
   "id": "1f423159",
   "metadata": {},
   "outputs": [],
   "source": [
    "# 전체 컬럼명 변경\n",
    "# df.columns = [\"년도\",\"이름\",\"번호\"]\n",
    "\n",
    "# 일부 컬럼명 변경\n",
    "df.rename(columns={\"model_year\":\"year\"})"
   ]
  },
  {
   "cell_type": "code",
   "execution_count": null,
   "id": "8979b117",
   "metadata": {},
   "outputs": [],
   "source": [
    "df.rename?"
   ]
  },
  {
   "cell_type": "markdown",
   "id": "6595bd2c",
   "metadata": {},
   "source": [
    "### 6) reset_index() : index 를 컬럼으로 만들기(앞에서 사용함)"
   ]
  },
  {
   "cell_type": "code",
   "execution_count": null,
   "id": "27dbdfea",
   "metadata": {},
   "outputs": [],
   "source": [
    "df.reset_index()"
   ]
  },
  {
   "cell_type": "markdown",
   "id": "2285b42f",
   "metadata": {},
   "source": [
    "### 5) sort_index() : index 를 기준으로 정렬하기"
   ]
  },
  {
   "cell_type": "code",
   "execution_count": null,
   "id": "9ad30765",
   "metadata": {},
   "outputs": [],
   "source": [
    "df.sort_index()"
   ]
  },
  {
   "cell_type": "markdown",
   "id": "98cdda58",
   "metadata": {},
   "source": [
    "### 7) drop(columns = ['','','']) : 괄호 안에 있는 컬럼 삭제 / drop([\"\",\"\"],axis=1)"
   ]
  },
  {
   "cell_type": "code",
   "execution_count": null,
   "id": "d7c50304",
   "metadata": {},
   "outputs": [],
   "source": [
    "df.drop(columns=[\"mpg\",\"model_year\"])"
   ]
  },
  {
   "cell_type": "code",
   "execution_count": null,
   "id": "ec469ce9",
   "metadata": {},
   "outputs": [],
   "source": [
    "df.drop([\"mpg\",\"model_year\"],axis=1)"
   ]
  },
  {
   "cell_type": "code",
   "execution_count": null,
   "id": "a4c046c3",
   "metadata": {},
   "outputs": [],
   "source": []
  },
  {
   "cell_type": "markdown",
   "id": "9e0e5b70",
   "metadata": {},
   "source": [
    "### [실습2]"
   ]
  },
  {
   "cell_type": "code",
   "execution_count": null,
   "id": "d9eaf68c",
   "metadata": {
    "scrolled": true
   },
   "outputs": [],
   "source": [
    "df = pd.DataFrame({\n",
    "    \"년도\":[2019,2020,2021],\n",
    "    \"미국\":[2.1,2.2,2.3],\n",
    "    \"한국\":[0.4,0.5,0.45],\n",
    "    \"중국\":[10,13,15]\n",
    "})\n",
    "df"
   ]
  },
  {
   "cell_type": "markdown",
   "id": "840ded6e",
   "metadata": {},
   "source": [
    "### 1) 인덱스 생성 "
   ]
  },
  {
   "cell_type": "code",
   "execution_count": null,
   "id": "54bd3ca8",
   "metadata": {},
   "outputs": [],
   "source": [
    "df.set_index(\"년도\",inplace=True)"
   ]
  },
  {
   "cell_type": "markdown",
   "id": "a849ab32",
   "metadata": {},
   "source": [
    "### 2) 인덱스 제거"
   ]
  },
  {
   "cell_type": "code",
   "execution_count": null,
   "id": "71dbb1c3",
   "metadata": {},
   "outputs": [],
   "source": [
    "df.reset_index()"
   ]
  },
  {
   "cell_type": "code",
   "execution_count": null,
   "id": "7bfd4551",
   "metadata": {},
   "outputs": [],
   "source": [
    "df.rename(columns={\"중국\":\"홍콩\"},inplace=True)\n",
    "\n",
    "df"
   ]
  }
 ],
 "metadata": {
  "kernelspec": {
   "display_name": "Python 3 (ipykernel)",
   "language": "python",
   "name": "python3"
  },
  "language_info": {
   "codemirror_mode": {
    "name": "ipython",
    "version": 3
   },
   "file_extension": ".py",
   "mimetype": "text/x-python",
   "name": "python",
   "nbconvert_exporter": "python",
   "pygments_lexer": "ipython3",
   "version": "3.11.4"
  }
 },
 "nbformat": 4,
 "nbformat_minor": 5
}
