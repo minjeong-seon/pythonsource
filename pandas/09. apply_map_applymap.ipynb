{
 "cells": [
  {
   "cell_type": "markdown",
   "id": "3188b2d7",
   "metadata": {},
   "source": [
    "### [참고] <a href=\"https://pandas.pydata.org/Pandas_Cheat_Sheet.pdf\">Pandas Cheat Sheet</a>"
   ]
  },
  {
   "cell_type": "code",
   "execution_count": 1,
   "id": "61ef20cd",
   "metadata": {},
   "outputs": [],
   "source": [
    "import pandas as pd\n",
    "import numpy as np"
   ]
  },
  {
   "cell_type": "code",
   "execution_count": null,
   "id": "9b4a0540",
   "metadata": {},
   "outputs": [],
   "source": [
    "df = pd.DataFrame(\n",
    "    {\n",
    "        \"영어\" : [60,70],\n",
    "        \"수학\":[100,50]\n",
    "    },index=[\"Hong\",\"Kim\"]\n",
    ")\n",
    "df"
   ]
  },
  {
   "cell_type": "code",
   "execution_count": null,
   "id": "6f93ebed",
   "metadata": {},
   "outputs": [],
   "source": [
    "def func1(data):\n",
    "    print(data.values)"
   ]
  },
  {
   "cell_type": "code",
   "execution_count": null,
   "id": "8a9b5e52",
   "metadata": {},
   "outputs": [],
   "source": [
    "df.values"
   ]
  },
  {
   "cell_type": "code",
   "execution_count": null,
   "id": "b7981645",
   "metadata": {},
   "outputs": [],
   "source": [
    "# apply() : 데이터프레임에 함수 적용\n",
    "#           함수는 어느 방향으로 적용시킬 것인가?\n",
    "\n",
    "df.apply(func1)"
   ]
  },
  {
   "cell_type": "markdown",
   "id": "92516872",
   "metadata": {},
   "source": [
    "<img src='https://www.w3resource.com/w3r_images/pandas-dataframe-apply-1.png' width=\"300\" height=\"150\">"
   ]
  },
  {
   "cell_type": "code",
   "execution_count": null,
   "id": "5b20ef30",
   "metadata": {},
   "outputs": [],
   "source": [
    "df.apply(func1,axis=1)"
   ]
  },
  {
   "cell_type": "markdown",
   "id": "257bed83",
   "metadata": {},
   "source": [
    "<img src=\"https://www.w3resource.com/w3r_images/pandas-dataframe-apply-2.png\" width=\"300\" height=\"200\">"
   ]
  },
  {
   "cell_type": "code",
   "execution_count": null,
   "id": "d0862324",
   "metadata": {},
   "outputs": [],
   "source": [
    "# 영어 점수를 80 으로 수정\n",
    "\n",
    "def func2(data):\n",
    "    data[\"영어\"] = 80\n",
    "    return data"
   ]
  },
  {
   "cell_type": "code",
   "execution_count": null,
   "id": "f383bd79",
   "metadata": {},
   "outputs": [],
   "source": [
    "df_func2 = df.apply(func2,axis=1)\n",
    "df_func2"
   ]
  },
  {
   "cell_type": "markdown",
   "id": "f9767199",
   "metadata": {},
   "source": [
    "<img src=\"https://www.w3resource.com/w3r_images/pandas-dataframe-apply-3.png\">"
   ]
  },
  {
   "cell_type": "code",
   "execution_count": null,
   "id": "066edc0b",
   "metadata": {},
   "outputs": [],
   "source": [
    "df2 = pd.DataFrame([[9, 25]] * 3, columns=[\"P\",\"Q\"])\n",
    "df2"
   ]
  },
  {
   "cell_type": "code",
   "execution_count": null,
   "id": "37839cec",
   "metadata": {},
   "outputs": [],
   "source": [
    "df2.apply(np.sqrt)"
   ]
  },
  {
   "cell_type": "code",
   "execution_count": null,
   "id": "23168d48",
   "metadata": {},
   "outputs": [],
   "source": [
    "df2.apply(np.sum)"
   ]
  },
  {
   "cell_type": "code",
   "execution_count": null,
   "id": "e4f9b52a",
   "metadata": {},
   "outputs": [],
   "source": [
    "df2.apply(np.sqrt,axis=1)"
   ]
  },
  {
   "cell_type": "code",
   "execution_count": null,
   "id": "29051da3",
   "metadata": {},
   "outputs": [],
   "source": [
    "df2.apply(np.sum,axis=1)"
   ]
  },
  {
   "cell_type": "code",
   "execution_count": null,
   "id": "8dc4aed5",
   "metadata": {},
   "outputs": [],
   "source": [
    "date_list = {\"yyyy-mm-dd\":[\"2005-09-28\",\"2007-10-05\",\"2012-12-20\"]}\n",
    "df = pd.DataFrame(date_list)\n",
    "df"
   ]
  },
  {
   "cell_type": "code",
   "execution_count": null,
   "id": "946d1923",
   "metadata": {},
   "outputs": [],
   "source": [
    "# 년도만 잘라서 리턴\n",
    "\n",
    "# \"2005-07-20\".split(\"-\")[0]\n",
    "\n",
    "def extract_year(col):\n",
    "    return col.split(\"-\")[0]"
   ]
  },
  {
   "cell_type": "code",
   "execution_count": null,
   "id": "e09955f1",
   "metadata": {},
   "outputs": [],
   "source": [
    "df[\"yyyy-mm-dd\"].apply(extract_year)\n",
    "df"
   ]
  },
  {
   "cell_type": "code",
   "execution_count": null,
   "id": "b4fa73bd",
   "metadata": {},
   "outputs": [],
   "source": [
    "# 나이 컬럼 추가\n",
    "\n",
    "def get_age(year, cur_year):\n",
    "    return cur_year - int(year)"
   ]
  },
  {
   "cell_type": "code",
   "execution_count": null,
   "id": "b6c144e2",
   "metadata": {},
   "outputs": [],
   "source": [
    "df['age'] = df['year'].apply(get_age,cur_year=2023)\n",
    "df"
   ]
  }
 ],
 "metadata": {
  "kernelspec": {
   "display_name": "Python 3 (ipykernel)",
   "language": "python",
   "name": "python3"
  },
  "language_info": {
   "codemirror_mode": {
    "name": "ipython",
    "version": 3
   },
   "file_extension": ".py",
   "mimetype": "text/x-python",
   "name": "python",
   "nbconvert_exporter": "python",
   "pygments_lexer": "ipython3",
   "version": "3.11.4"
  }
 },
 "nbformat": 4,
 "nbformat_minor": 5
}
